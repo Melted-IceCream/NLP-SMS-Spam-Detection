{
 "cells": [
  {
   "cell_type": "markdown",
   "id": "3febd58b",
   "metadata": {
    "papermill": {
     "duration": 0.006031,
     "end_time": "2025-05-01T11:05:58.137790",
     "exception": false,
     "start_time": "2025-05-01T11:05:58.131759",
     "status": "completed"
    },
    "tags": []
   },
   "source": [
    "# **Data Import**"
   ]
  },
  {
   "cell_type": "code",
   "execution_count": 1,
   "id": "ed5807d1",
   "metadata": {
    "_cell_guid": "b1076dfc-b9ad-4769-8c92-a6c4dae69d19",
    "_uuid": "8f2839f25d086af736a60e9eeb907d3b93b6e0e5",
    "execution": {
     "iopub.execute_input": "2025-05-01T11:05:58.149157Z",
     "iopub.status.busy": "2025-05-01T11:05:58.148734Z",
     "iopub.status.idle": "2025-05-01T11:06:00.231805Z",
     "shell.execute_reply": "2025-05-01T11:06:00.230906Z"
    },
    "papermill": {
     "duration": 2.090803,
     "end_time": "2025-05-01T11:06:00.233526",
     "exception": false,
     "start_time": "2025-05-01T11:05:58.142723",
     "status": "completed"
    },
    "tags": []
   },
   "outputs": [],
   "source": [
    "import numpy as np\n",
    "import pandas as pd\n",
    "import warnings\n",
    "warnings.filterwarnings('ignore')"
   ]
  },
  {
   "cell_type": "code",
   "execution_count": 2,
   "id": "0eadff69",
   "metadata": {
    "execution": {
     "iopub.execute_input": "2025-05-01T11:06:00.245350Z",
     "iopub.status.busy": "2025-05-01T11:06:00.244885Z",
     "iopub.status.idle": "2025-05-01T11:06:00.312168Z",
     "shell.execute_reply": "2025-05-01T11:06:00.311144Z"
    },
    "papermill": {
     "duration": 0.074838,
     "end_time": "2025-05-01T11:06:00.313854",
     "exception": false,
     "start_time": "2025-05-01T11:06:00.239016",
     "status": "completed"
    },
    "tags": []
   },
   "outputs": [
    {
     "data": {
      "text/html": [
       "<div>\n",
       "<style scoped>\n",
       "    .dataframe tbody tr th:only-of-type {\n",
       "        vertical-align: middle;\n",
       "    }\n",
       "\n",
       "    .dataframe tbody tr th {\n",
       "        vertical-align: top;\n",
       "    }\n",
       "\n",
       "    .dataframe thead th {\n",
       "        text-align: right;\n",
       "    }\n",
       "</style>\n",
       "<table border=\"1\" class=\"dataframe\">\n",
       "  <thead>\n",
       "    <tr style=\"text-align: right;\">\n",
       "      <th></th>\n",
       "      <th>v1</th>\n",
       "      <th>v2</th>\n",
       "      <th>Unnamed: 2</th>\n",
       "      <th>Unnamed: 3</th>\n",
       "      <th>Unnamed: 4</th>\n",
       "    </tr>\n",
       "  </thead>\n",
       "  <tbody>\n",
       "    <tr>\n",
       "      <th>0</th>\n",
       "      <td>ham</td>\n",
       "      <td>Go until jurong point, crazy.. Available only ...</td>\n",
       "      <td>NaN</td>\n",
       "      <td>NaN</td>\n",
       "      <td>NaN</td>\n",
       "    </tr>\n",
       "    <tr>\n",
       "      <th>1</th>\n",
       "      <td>ham</td>\n",
       "      <td>Ok lar... Joking wif u oni...</td>\n",
       "      <td>NaN</td>\n",
       "      <td>NaN</td>\n",
       "      <td>NaN</td>\n",
       "    </tr>\n",
       "    <tr>\n",
       "      <th>2</th>\n",
       "      <td>spam</td>\n",
       "      <td>Free entry in 2 a wkly comp to win FA Cup fina...</td>\n",
       "      <td>NaN</td>\n",
       "      <td>NaN</td>\n",
       "      <td>NaN</td>\n",
       "    </tr>\n",
       "    <tr>\n",
       "      <th>3</th>\n",
       "      <td>ham</td>\n",
       "      <td>U dun say so early hor... U c already then say...</td>\n",
       "      <td>NaN</td>\n",
       "      <td>NaN</td>\n",
       "      <td>NaN</td>\n",
       "    </tr>\n",
       "    <tr>\n",
       "      <th>4</th>\n",
       "      <td>ham</td>\n",
       "      <td>Nah I don't think he goes to usf, he lives aro...</td>\n",
       "      <td>NaN</td>\n",
       "      <td>NaN</td>\n",
       "      <td>NaN</td>\n",
       "    </tr>\n",
       "  </tbody>\n",
       "</table>\n",
       "</div>"
      ],
      "text/plain": [
       "     v1                                                 v2 Unnamed: 2  \\\n",
       "0   ham  Go until jurong point, crazy.. Available only ...        NaN   \n",
       "1   ham                      Ok lar... Joking wif u oni...        NaN   \n",
       "2  spam  Free entry in 2 a wkly comp to win FA Cup fina...        NaN   \n",
       "3   ham  U dun say so early hor... U c already then say...        NaN   \n",
       "4   ham  Nah I don't think he goes to usf, he lives aro...        NaN   \n",
       "\n",
       "  Unnamed: 3 Unnamed: 4  \n",
       "0        NaN        NaN  \n",
       "1        NaN        NaN  \n",
       "2        NaN        NaN  \n",
       "3        NaN        NaN  \n",
       "4        NaN        NaN  "
      ]
     },
     "execution_count": 2,
     "metadata": {},
     "output_type": "execute_result"
    }
   ],
   "source": [
    "data = pd.read_csv(\"/kaggle/input/sms-spam-collection-dataset/spam.csv\", encoding='latin-1')\n",
    "data.head()"
   ]
  },
  {
   "cell_type": "markdown",
   "id": "3a8ad4a7",
   "metadata": {
    "papermill": {
     "duration": 0.005059,
     "end_time": "2025-05-01T11:06:00.324109",
     "exception": false,
     "start_time": "2025-05-01T11:06:00.319050",
     "status": "completed"
    },
    "tags": []
   },
   "source": [
    "# **Exploratory Data Analysis**"
   ]
  },
  {
   "cell_type": "code",
   "execution_count": 3,
   "id": "b733d3c6",
   "metadata": {
    "execution": {
     "iopub.execute_input": "2025-05-01T11:06:00.335845Z",
     "iopub.status.busy": "2025-05-01T11:06:00.335558Z",
     "iopub.status.idle": "2025-05-01T11:06:02.684609Z",
     "shell.execute_reply": "2025-05-01T11:06:02.683626Z"
    },
    "papermill": {
     "duration": 2.357152,
     "end_time": "2025-05-01T11:06:02.686278",
     "exception": false,
     "start_time": "2025-05-01T11:06:00.329126",
     "status": "completed"
    },
    "tags": []
   },
   "outputs": [
    {
     "data": {
      "text/plain": [
       "Text(0, 0.5, 'Number of Data points')"
      ]
     },
     "execution_count": 3,
     "metadata": {},
     "output_type": "execute_result"
    },
    {
     "data": {
      "image/png": "[encoded data removed]",
      "text/plain": [
       "<Figure size 1200x800 with 1 Axes>"
      ]
     },
     "metadata": {},
     "output_type": "display_data"
    }
   ],
   "source": [
    "import matplotlib.pyplot as plt\n",
    "import seaborn as sns\n",
    "\n",
    "#Check the number of data\n",
    "plt.figure(figsize=(12,8))\n",
    "fg = sns.countplot(x= data[\"v1\"])\n",
    "fg.set_title(\"Count Plot of Classes\")\n",
    "fg.set_xlabel(\"Classes\")\n",
    "fg.set_ylabel(\"Number of Data points\")"
   ]
  },
  {
   "cell_type": "markdown",
   "id": "05a190de",
   "metadata": {
    "papermill": {
     "duration": 0.005086,
     "end_time": "2025-05-01T11:06:02.696979",
     "exception": false,
     "start_time": "2025-05-01T11:06:02.691893",
     "status": "completed"
    },
    "tags": []
   },
   "source": [
    "# **Data Preprocessing**"
   ]
  },
  {
   "cell_type": "code",
   "execution_count": 4,
   "id": "8824fdb8",
   "metadata": {
    "execution": {
     "iopub.execute_input": "2025-05-01T11:06:02.709024Z",
     "iopub.status.busy": "2025-05-01T11:06:02.708515Z",
     "iopub.status.idle": "2025-05-01T11:06:02.719636Z",
     "shell.execute_reply": "2025-05-01T11:06:02.718550Z"
    },
    "papermill": {
     "duration": 0.018979,
     "end_time": "2025-05-01T11:06:02.721147",
     "exception": false,
     "start_time": "2025-05-01T11:06:02.702168",
     "status": "completed"
    },
    "tags": []
   },
   "outputs": [
    {
     "data": {
      "text/html": [
       "<div>\n",
       "<style scoped>\n",
       "    .dataframe tbody tr th:only-of-type {\n",
       "        vertical-align: middle;\n",
       "    }\n",
       "\n",
       "    .dataframe tbody tr th {\n",
       "        vertical-align: top;\n",
       "    }\n",
       "\n",
       "    .dataframe thead th {\n",
       "        text-align: right;\n",
       "    }\n",
       "</style>\n",
       "<table border=\"1\" class=\"dataframe\">\n",
       "  <thead>\n",
       "    <tr style=\"text-align: right;\">\n",
       "      <th></th>\n",
       "      <th>v1</th>\n",
       "      <th>v2</th>\n",
       "    </tr>\n",
       "  </thead>\n",
       "  <tbody>\n",
       "    <tr>\n",
       "      <th>0</th>\n",
       "      <td>ham</td>\n",
       "      <td>Go until jurong point, crazy.. Available only ...</td>\n",
       "    </tr>\n",
       "    <tr>\n",
       "      <th>1</th>\n",
       "      <td>ham</td>\n",
       "      <td>Ok lar... Joking wif u oni...</td>\n",
       "    </tr>\n",
       "    <tr>\n",
       "      <th>2</th>\n",
       "      <td>spam</td>\n",
       "      <td>Free entry in 2 a wkly comp to win FA Cup fina...</td>\n",
       "    </tr>\n",
       "    <tr>\n",
       "      <th>3</th>\n",
       "      <td>ham</td>\n",
       "      <td>U dun say so early hor... U c already then say...</td>\n",
       "    </tr>\n",
       "    <tr>\n",
       "      <th>4</th>\n",
       "      <td>ham</td>\n",
       "      <td>Nah I don't think he goes to usf, he lives aro...</td>\n",
       "    </tr>\n",
       "  </tbody>\n",
       "</table>\n",
       "</div>"
      ],
      "text/plain": [
       "     v1                                                 v2\n",
       "0   ham  Go until jurong point, crazy.. Available only ...\n",
       "1   ham                      Ok lar... Joking wif u oni...\n",
       "2  spam  Free entry in 2 a wkly comp to win FA Cup fina...\n",
       "3   ham  U dun say so early hor... U c already then say...\n",
       "4   ham  Nah I don't think he goes to usf, he lives aro..."
      ]
     },
     "execution_count": 4,
     "metadata": {},
     "output_type": "execute_result"
    }
   ],
   "source": [
    "#Removing empty columns\n",
    "data = data[['v1', 'v2']]\n",
    "data.head()"
   ]
  },
  {
   "cell_type": "code",
   "execution_count": 5,
   "id": "43a36a55",
   "metadata": {
    "execution": {
     "iopub.execute_input": "2025-05-01T11:06:02.733511Z",
     "iopub.status.busy": "2025-05-01T11:06:02.733156Z",
     "iopub.status.idle": "2025-05-01T11:06:02.775228Z",
     "shell.execute_reply": "2025-05-01T11:06:02.773978Z"
    },
    "papermill": {
     "duration": 0.050485,
     "end_time": "2025-05-01T11:06:02.777115",
     "exception": false,
     "start_time": "2025-05-01T11:06:02.726630",
     "status": "completed"
    },
    "tags": []
   },
   "outputs": [
    {
     "data": {
      "text/html": [
       "<div>\n",
       "<style scoped>\n",
       "    .dataframe tbody tr th:only-of-type {\n",
       "        vertical-align: middle;\n",
       "    }\n",
       "\n",
       "    .dataframe tbody tr th {\n",
       "        vertical-align: top;\n",
       "    }\n",
       "\n",
       "    .dataframe thead th {\n",
       "        text-align: right;\n",
       "    }\n",
       "</style>\n",
       "<table border=\"1\" class=\"dataframe\">\n",
       "  <thead>\n",
       "    <tr style=\"text-align: right;\">\n",
       "      <th></th>\n",
       "      <th>v1</th>\n",
       "      <th>v2</th>\n",
       "      <th>no_punctuation</th>\n",
       "    </tr>\n",
       "  </thead>\n",
       "  <tbody>\n",
       "    <tr>\n",
       "      <th>0</th>\n",
       "      <td>ham</td>\n",
       "      <td>Go until jurong point, crazy.. Available only ...</td>\n",
       "      <td>Go until jurong point crazy Available only in ...</td>\n",
       "    </tr>\n",
       "    <tr>\n",
       "      <th>1</th>\n",
       "      <td>ham</td>\n",
       "      <td>Ok lar... Joking wif u oni...</td>\n",
       "      <td>Ok lar Joking wif u oni</td>\n",
       "    </tr>\n",
       "    <tr>\n",
       "      <th>2</th>\n",
       "      <td>spam</td>\n",
       "      <td>Free entry in 2 a wkly comp to win FA Cup fina...</td>\n",
       "      <td>Free entry in 2 a wkly comp to win FA Cup fina...</td>\n",
       "    </tr>\n",
       "    <tr>\n",
       "      <th>3</th>\n",
       "      <td>ham</td>\n",
       "      <td>U dun say so early hor... U c already then say...</td>\n",
       "      <td>U dun say so early hor U c already then say</td>\n",
       "    </tr>\n",
       "    <tr>\n",
       "      <th>4</th>\n",
       "      <td>ham</td>\n",
       "      <td>Nah I don't think he goes to usf, he lives aro...</td>\n",
       "      <td>Nah I dont think he goes to usf he lives aroun...</td>\n",
       "    </tr>\n",
       "  </tbody>\n",
       "</table>\n",
       "</div>"
      ],
      "text/plain": [
       "     v1                                                 v2  \\\n",
       "0   ham  Go until jurong point, crazy.. Available only ...   \n",
       "1   ham                      Ok lar... Joking wif u oni...   \n",
       "2  spam  Free entry in 2 a wkly comp to win FA Cup fina...   \n",
       "3   ham  U dun say so early hor... U c already then say...   \n",
       "4   ham  Nah I don't think he goes to usf, he lives aro...   \n",
       "\n",
       "                                      no_punctuation  \n",
       "0  Go until jurong point crazy Available only in ...  \n",
       "1                            Ok lar Joking wif u oni  \n",
       "2  Free entry in 2 a wkly comp to win FA Cup fina...  \n",
       "3        U dun say so early hor U c already then say  \n",
       "4  Nah I dont think he goes to usf he lives aroun...  "
      ]
     },
     "execution_count": 5,
     "metadata": {},
     "output_type": "execute_result"
    }
   ],
   "source": [
    "import string\n",
    "\n",
    "def remove_special_characters(word):\n",
    "    return word.translate(str.maketrans('', '', string.punctuation))\n",
    "\n",
    "data[\"no_punctuation\"] = data[\"v2\"].apply(remove_special_characters)\n",
    "data.head()"
   ]
  },
  {
   "cell_type": "code",
   "execution_count": 6,
   "id": "1f41445d",
   "metadata": {
    "execution": {
     "iopub.execute_input": "2025-05-01T11:06:02.790044Z",
     "iopub.status.busy": "2025-05-01T11:06:02.789504Z",
     "iopub.status.idle": "2025-05-01T11:06:03.090480Z",
     "shell.execute_reply": "2025-05-01T11:06:03.089395Z"
    },
    "papermill": {
     "duration": 0.309139,
     "end_time": "2025-05-01T11:06:03.092053",
     "exception": false,
     "start_time": "2025-05-01T11:06:02.782914",
     "status": "completed"
    },
    "tags": []
   },
   "outputs": [
    {
     "data": {
      "text/html": [
       "<div>\n",
       "<style scoped>\n",
       "    .dataframe tbody tr th:only-of-type {\n",
       "        vertical-align: middle;\n",
       "    }\n",
       "\n",
       "    .dataframe tbody tr th {\n",
       "        vertical-align: top;\n",
       "    }\n",
       "\n",
       "    .dataframe thead th {\n",
       "        text-align: right;\n",
       "    }\n",
       "</style>\n",
       "<table border=\"1\" class=\"dataframe\">\n",
       "  <thead>\n",
       "    <tr style=\"text-align: right;\">\n",
       "      <th></th>\n",
       "      <th>v1</th>\n",
       "      <th>v2</th>\n",
       "      <th>no_punctuation</th>\n",
       "    </tr>\n",
       "  </thead>\n",
       "  <tbody>\n",
       "    <tr>\n",
       "      <th>0</th>\n",
       "      <td>0</td>\n",
       "      <td>Go until jurong point, crazy.. Available only ...</td>\n",
       "      <td>Go until jurong point crazy Available only in ...</td>\n",
       "    </tr>\n",
       "    <tr>\n",
       "      <th>1</th>\n",
       "      <td>0</td>\n",
       "      <td>Ok lar... Joking wif u oni...</td>\n",
       "      <td>Ok lar Joking wif u oni</td>\n",
       "    </tr>\n",
       "    <tr>\n",
       "      <th>2</th>\n",
       "      <td>1</td>\n",
       "      <td>Free entry in 2 a wkly comp to win FA Cup fina...</td>\n",
       "      <td>Free entry in 2 a wkly comp to win FA Cup fina...</td>\n",
       "    </tr>\n",
       "    <tr>\n",
       "      <th>3</th>\n",
       "      <td>0</td>\n",
       "      <td>U dun say so early hor... U c already then say...</td>\n",
       "      <td>U dun say so early hor U c already then say</td>\n",
       "    </tr>\n",
       "    <tr>\n",
       "      <th>4</th>\n",
       "      <td>0</td>\n",
       "      <td>Nah I don't think he goes to usf, he lives aro...</td>\n",
       "      <td>Nah I dont think he goes to usf he lives aroun...</td>\n",
       "    </tr>\n",
       "  </tbody>\n",
       "</table>\n",
       "</div>"
      ],
      "text/plain": [
       "   v1                                                 v2  \\\n",
       "0   0  Go until jurong point, crazy.. Available only ...   \n",
       "1   0                      Ok lar... Joking wif u oni...   \n",
       "2   1  Free entry in 2 a wkly comp to win FA Cup fina...   \n",
       "3   0  U dun say so early hor... U c already then say...   \n",
       "4   0  Nah I don't think he goes to usf, he lives aro...   \n",
       "\n",
       "                                      no_punctuation  \n",
       "0  Go until jurong point crazy Available only in ...  \n",
       "1                            Ok lar Joking wif u oni  \n",
       "2  Free entry in 2 a wkly comp to win FA Cup fina...  \n",
       "3        U dun say so early hor U c already then say  \n",
       "4  Nah I dont think he goes to usf he lives aroun...  "
      ]
     },
     "execution_count": 6,
     "metadata": {},
     "output_type": "execute_result"
    }
   ],
   "source": [
    "from sklearn.preprocessing import LabelEncoder\n",
    "#Label encode the results to 0 and 1\n",
    "label_encoder = LabelEncoder()\n",
    "data[\"v1\"] = label_encoder.fit_transform(data[\"v1\"])\n",
    "y = data[\"v1\"]\n",
    "data.head()"
   ]
  },
  {
   "cell_type": "code",
   "execution_count": 7,
   "id": "613db519",
   "metadata": {
    "execution": {
     "iopub.execute_input": "2025-05-01T11:06:03.105104Z",
     "iopub.status.busy": "2025-05-01T11:06:03.104731Z",
     "iopub.status.idle": "2025-05-01T11:06:03.235566Z",
     "shell.execute_reply": "2025-05-01T11:06:03.234629Z"
    },
    "papermill": {
     "duration": 0.139381,
     "end_time": "2025-05-01T11:06:03.237380",
     "exception": false,
     "start_time": "2025-05-01T11:06:03.097999",
     "status": "completed"
    },
    "tags": []
   },
   "outputs": [],
   "source": [
    "from sklearn.model_selection import train_test_split\n",
    "#Split the data into train and test set\n",
    "X_train, X_test, y_train, y_test = train_test_split(data[\"no_punctuation\"], y, test_size=0.2, random_state=42)"
   ]
  },
  {
   "cell_type": "code",
   "execution_count": 8,
   "id": "480a87e6",
   "metadata": {
    "execution": {
     "iopub.execute_input": "2025-05-01T11:06:03.251995Z",
     "iopub.status.busy": "2025-05-01T11:06:03.251129Z",
     "iopub.status.idle": "2025-05-01T11:06:03.370766Z",
     "shell.execute_reply": "2025-05-01T11:06:03.369739Z"
    },
    "papermill": {
     "duration": 0.129145,
     "end_time": "2025-05-01T11:06:03.372555",
     "exception": false,
     "start_time": "2025-05-01T11:06:03.243410",
     "status": "completed"
    },
    "tags": []
   },
   "outputs": [],
   "source": [
    "from sklearn.feature_extraction.text import TfidfVectorizer\n",
    "\n",
    "vectorizer = TfidfVectorizer(stop_words='english')\n",
    "X_train = vectorizer.fit_transform(X_train)\n",
    "X_test = vectorizer.transform(X_test)"
   ]
  },
  {
   "cell_type": "markdown",
   "id": "5190afa1",
   "metadata": {
    "papermill": {
     "duration": 0.005323,
     "end_time": "2025-05-01T11:06:03.383781",
     "exception": false,
     "start_time": "2025-05-01T11:06:03.378458",
     "status": "completed"
    },
    "tags": []
   },
   "source": [
    "# **Model Building**"
   ]
  },
  {
   "cell_type": "markdown",
   "id": "701fb88e",
   "metadata": {
    "papermill": {
     "duration": 0.005317,
     "end_time": "2025-05-01T11:06:03.394804",
     "exception": false,
     "start_time": "2025-05-01T11:06:03.389487",
     "status": "completed"
    },
    "tags": []
   },
   "source": [
    "Naive Bayes"
   ]
  },
  {
   "cell_type": "code",
   "execution_count": 9,
   "id": "45b0db83",
   "metadata": {
    "execution": {
     "iopub.execute_input": "2025-05-01T11:06:03.407366Z",
     "iopub.status.busy": "2025-05-01T11:06:03.407011Z",
     "iopub.status.idle": "2025-05-01T11:06:03.448603Z",
     "shell.execute_reply": "2025-05-01T11:06:03.447396Z"
    },
    "papermill": {
     "duration": 0.049994,
     "end_time": "2025-05-01T11:06:03.450331",
     "exception": false,
     "start_time": "2025-05-01T11:06:03.400337",
     "status": "completed"
    },
    "tags": []
   },
   "outputs": [
    {
     "name": "stdout",
     "output_type": "stream",
     "text": [
      "Naive Bayes Accuracy: 0.967713004484305\n",
      "              precision    recall  f1-score   support\n",
      "\n",
      "           0       0.96      1.00      0.98       965\n",
      "           1       1.00      0.76      0.86       150\n",
      "\n",
      "    accuracy                           0.97      1115\n",
      "   macro avg       0.98      0.88      0.92      1115\n",
      "weighted avg       0.97      0.97      0.97      1115\n",
      "\n"
     ]
    }
   ],
   "source": [
    "from sklearn.naive_bayes import MultinomialNB\n",
    "from sklearn.metrics import classification_report, accuracy_score\n",
    "\n",
    "nb = MultinomialNB()\n",
    "nb.fit(X_train, y_train)\n",
    "y_pred_nb = nb.predict(X_test)\n",
    "\n",
    "print(\"Naive Bayes Accuracy:\", accuracy_score(y_test, y_pred_nb))\n",
    "print(classification_report(y_test, y_pred_nb))"
   ]
  },
  {
   "cell_type": "markdown",
   "id": "997b87bf",
   "metadata": {
    "papermill": {
     "duration": 0.005932,
     "end_time": "2025-05-01T11:06:03.462333",
     "exception": false,
     "start_time": "2025-05-01T11:06:03.456401",
     "status": "completed"
    },
    "tags": []
   },
   "source": [
    "Random Forest"
   ]
  },
  {
   "cell_type": "code",
   "execution_count": 10,
   "id": "a6f33070",
   "metadata": {
    "execution": {
     "iopub.execute_input": "2025-05-01T11:06:03.475934Z",
     "iopub.status.busy": "2025-05-01T11:06:03.474927Z",
     "iopub.status.idle": "2025-05-01T11:06:05.122416Z",
     "shell.execute_reply": "2025-05-01T11:06:05.121136Z"
    },
    "papermill": {
     "duration": 1.655848,
     "end_time": "2025-05-01T11:06:05.124156",
     "exception": false,
     "start_time": "2025-05-01T11:06:03.468308",
     "status": "completed"
    },
    "tags": []
   },
   "outputs": [
    {
     "name": "stdout",
     "output_type": "stream",
     "text": [
      "Random Forest Accuracy: 0.9713004484304932\n",
      "              precision    recall  f1-score   support\n",
      "\n",
      "           0       0.97      1.00      0.98       965\n",
      "           1       1.00      0.79      0.88       150\n",
      "\n",
      "    accuracy                           0.97      1115\n",
      "   macro avg       0.98      0.89      0.93      1115\n",
      "weighted avg       0.97      0.97      0.97      1115\n",
      "\n"
     ]
    }
   ],
   "source": [
    "from sklearn.ensemble import RandomForestClassifier\n",
    "\n",
    "rf = RandomForestClassifier(n_estimators=100, random_state=42)\n",
    "rf.fit(X_train, y_train)\n",
    "y_pred_rf = rf.predict(X_test)\n",
    "\n",
    "print(\"Random Forest Accuracy:\", accuracy_score(y_test, y_pred_rf))\n",
    "print(classification_report(y_test, y_pred_rf))"
   ]
  },
  {
   "cell_type": "markdown",
   "id": "d08294c8",
   "metadata": {
    "papermill": {
     "duration": 0.005905,
     "end_time": "2025-05-01T11:06:05.136401",
     "exception": false,
     "start_time": "2025-05-01T11:06:05.130496",
     "status": "completed"
    },
    "tags": []
   },
   "source": [
    "Support Vector Machine"
   ]
  },
  {
   "cell_type": "code",
   "execution_count": 11,
   "id": "f7ba5e5f",
   "metadata": {
    "execution": {
     "iopub.execute_input": "2025-05-01T11:06:05.149735Z",
     "iopub.status.busy": "2025-05-01T11:06:05.149400Z",
     "iopub.status.idle": "2025-05-01T11:06:08.999954Z",
     "shell.execute_reply": "2025-05-01T11:06:08.999011Z"
    },
    "papermill": {
     "duration": 3.859612,
     "end_time": "2025-05-01T11:06:09.001809",
     "exception": false,
     "start_time": "2025-05-01T11:06:05.142197",
     "status": "completed"
    },
    "tags": []
   },
   "outputs": [
    {
     "name": "stdout",
     "output_type": "stream",
     "text": [
      "Support Vector Machine Accuracy: 0.9802690582959641\n",
      "              precision    recall  f1-score   support\n",
      "\n",
      "           0       0.98      1.00      0.99       965\n",
      "           1       0.98      0.87      0.92       150\n",
      "\n",
      "    accuracy                           0.98      1115\n",
      "   macro avg       0.98      0.94      0.96      1115\n",
      "weighted avg       0.98      0.98      0.98      1115\n",
      "\n"
     ]
    }
   ],
   "source": [
    "from sklearn.svm import SVC\n",
    "\n",
    "svm = SVC(kernel='linear', probability=True, random_state=42)\n",
    "svm.fit(X_train, y_train)\n",
    "y_pred_svm = svm.predict(X_test)\n",
    "\n",
    "print(\"Support Vector Machine Accuracy:\", accuracy_score(y_test, y_pred_svm))\n",
    "print(classification_report(y_test, y_pred_svm))"
   ]
  },
  {
   "cell_type": "markdown",
   "id": "dad5d6e0",
   "metadata": {
    "papermill": {
     "duration": 0.006541,
     "end_time": "2025-05-01T11:06:09.019770",
     "exception": false,
     "start_time": "2025-05-01T11:06:09.013229",
     "status": "completed"
    },
    "tags": []
   },
   "source": [
    "K-Nearest-Neighbor"
   ]
  },
  {
   "cell_type": "code",
   "execution_count": 12,
   "id": "587c2b15",
   "metadata": {
    "execution": {
     "iopub.execute_input": "2025-05-01T11:06:09.034218Z",
     "iopub.status.busy": "2025-05-01T11:06:09.033264Z",
     "iopub.status.idle": "2025-05-01T11:06:09.651115Z",
     "shell.execute_reply": "2025-05-01T11:06:09.649953Z"
    },
    "papermill": {
     "duration": 0.626612,
     "end_time": "2025-05-01T11:06:09.652768",
     "exception": false,
     "start_time": "2025-05-01T11:06:09.026156",
     "status": "completed"
    },
    "tags": []
   },
   "outputs": [
    {
     "name": "stdout",
     "output_type": "stream",
     "text": [
      "KNN Accuracy: 0.9121076233183857\n",
      "              precision    recall  f1-score   support\n",
      "\n",
      "           0       0.91      1.00      0.95       965\n",
      "           1       1.00      0.35      0.51       150\n",
      "\n",
      "    accuracy                           0.91      1115\n",
      "   macro avg       0.95      0.67      0.73      1115\n",
      "weighted avg       0.92      0.91      0.89      1115\n",
      "\n"
     ]
    }
   ],
   "source": [
    "from sklearn.neighbors import KNeighborsClassifier\n",
    "\n",
    "knn = KNeighborsClassifier(n_neighbors=4)\n",
    "knn.fit(X_train, y_train)\n",
    "y_pred_knn = knn.predict(X_test)\n",
    "\n",
    "print(\"KNN Accuracy:\", accuracy_score(y_test, y_pred_knn))\n",
    "print(classification_report(y_test, y_pred_knn))"
   ]
  },
  {
   "cell_type": "markdown",
   "id": "fbfa7596",
   "metadata": {
    "papermill": {
     "duration": 0.005839,
     "end_time": "2025-05-01T11:06:09.664736",
     "exception": false,
     "start_time": "2025-05-01T11:06:09.658897",
     "status": "completed"
    },
    "tags": []
   },
   "source": [
    "XGBooost"
   ]
  },
  {
   "cell_type": "code",
   "execution_count": 13,
   "id": "5306cb0a",
   "metadata": {
    "execution": {
     "iopub.execute_input": "2025-05-01T11:06:09.679091Z",
     "iopub.status.busy": "2025-05-01T11:06:09.678676Z",
     "iopub.status.idle": "2025-05-01T11:06:10.966326Z",
     "shell.execute_reply": "2025-05-01T11:06:10.965540Z"
    },
    "papermill": {
     "duration": 1.297188,
     "end_time": "2025-05-01T11:06:10.967978",
     "exception": false,
     "start_time": "2025-05-01T11:06:09.670790",
     "status": "completed"
    },
    "tags": []
   },
   "outputs": [
    {
     "name": "stdout",
     "output_type": "stream",
     "text": [
      "XGBoost Accuracy: 0.957847533632287\n",
      "              precision    recall  f1-score   support\n",
      "\n",
      "           0       0.96      0.99      0.98       965\n",
      "           1       0.93      0.74      0.83       150\n",
      "\n",
      "    accuracy                           0.96      1115\n",
      "   macro avg       0.95      0.87      0.90      1115\n",
      "weighted avg       0.96      0.96      0.96      1115\n",
      "\n"
     ]
    }
   ],
   "source": [
    "from xgboost import XGBClassifier\n",
    "\n",
    "xgb = XGBClassifier(random_state=42, eval_metric='logloss')\n",
    "xgb.fit(X_train, y_train)\n",
    "y_pred_xgb = xgb.predict(X_test)\n",
    "\n",
    "print(\"XGBoost Accuracy:\", accuracy_score(y_test, y_pred_xgb))\n",
    "print(classification_report(y_test, y_pred_xgb))"
   ]
  },
  {
   "cell_type": "markdown",
   "id": "3406ad41",
   "metadata": {
    "papermill": {
     "duration": 0.006036,
     "end_time": "2025-05-01T11:06:10.981008",
     "exception": false,
     "start_time": "2025-05-01T11:06:10.974972",
     "status": "completed"
    },
    "tags": []
   },
   "source": [
    "Neural Network"
   ]
  },
  {
   "cell_type": "code",
   "execution_count": 14,
   "id": "ae5eb4c9",
   "metadata": {
    "execution": {
     "iopub.execute_input": "2025-05-01T11:06:10.994912Z",
     "iopub.status.busy": "2025-05-01T11:06:10.994096Z",
     "iopub.status.idle": "2025-05-01T11:06:29.488356Z",
     "shell.execute_reply": "2025-05-01T11:06:29.487406Z"
    },
    "papermill": {
     "duration": 18.502801,
     "end_time": "2025-05-01T11:06:29.489951",
     "exception": false,
     "start_time": "2025-05-01T11:06:10.987150",
     "status": "completed"
    },
    "tags": []
   },
   "outputs": [
    {
     "name": "stderr",
     "output_type": "stream",
     "text": [
      "2025-05-01 11:06:12.994936: E external/local_xla/xla/stream_executor/cuda/cuda_fft.cc:477] Unable to register cuFFT factory: Attempting to register factory for plugin cuFFT when one has already been registered\n",
      "WARNING: All log messages before absl::InitializeLog() is called are written to STDERR\n",
      "E0000 00:00:1746097573.293312      13 cuda_dnn.cc:8310] Unable to register cuDNN factory: Attempting to register factory for plugin cuDNN when one has already been registered\n",
      "E0000 00:00:1746097573.373906      13 cuda_blas.cc:1418] Unable to register cuBLAS factory: Attempting to register factory for plugin cuBLAS when one has already been registered\n",
      "2025-05-01 11:06:29.357966: E external/local_xla/xla/stream_executor/cuda/cuda_driver.cc:152] failed call to cuInit: INTERNAL: CUDA error: Failed call to cuInit: UNKNOWN ERROR (303)\n"
     ]
    },
    {
     "data": {
      "text/html": [
       "<pre style=\"white-space:pre;overflow-x:auto;line-height:normal;font-family:Menlo,'DejaVu Sans Mono',consolas,'Courier New',monospace\"><span style=\"font-weight: bold\">Model: \"sequential\"</span>\n",
       "</pre>\n"
      ],
      "text/plain": [
       "\u001b[1mModel: \"sequential\"\u001b[0m\n"
      ]
     },
     "metadata": {},
     "output_type": "display_data"
    },
    {
     "data": {
      "text/html": [
       "<pre style=\"white-space:pre;overflow-x:auto;line-height:normal;font-family:Menlo,'DejaVu Sans Mono',consolas,'Courier New',monospace\">┏━━━━━━━━━━━━━━━━━━━━━━━━━━━━━━━━━━━━━━┳━━━━━━━━━━━━━━━━━━━━━━━━━━━━━┳━━━━━━━━━━━━━━━━━┓\n",
       "┃<span style=\"font-weight: bold\"> Layer (type)                         </span>┃<span style=\"font-weight: bold\"> Output Shape                </span>┃<span style=\"font-weight: bold\">         Param # </span>┃\n",
       "┡━━━━━━━━━━━━━━━━━━━━━━━━━━━━━━━━━━━━━━╇━━━━━━━━━━━━━━━━━━━━━━━━━━━━━╇━━━━━━━━━━━━━━━━━┩\n",
       "│ dense (<span style=\"color: #0087ff; text-decoration-color: #0087ff\">Dense</span>)                        │ (<span style=\"color: #00d7ff; text-decoration-color: #00d7ff\">None</span>, <span style=\"color: #00af00; text-decoration-color: #00af00\">128</span>)                 │       <span style=\"color: #00af00; text-decoration-color: #00af00\">1,039,616</span> │\n",
       "├──────────────────────────────────────┼─────────────────────────────┼─────────────────┤\n",
       "│ dropout (<span style=\"color: #0087ff; text-decoration-color: #0087ff\">Dropout</span>)                    │ (<span style=\"color: #00d7ff; text-decoration-color: #00d7ff\">None</span>, <span style=\"color: #00af00; text-decoration-color: #00af00\">128</span>)                 │               <span style=\"color: #00af00; text-decoration-color: #00af00\">0</span> │\n",
       "├──────────────────────────────────────┼─────────────────────────────┼─────────────────┤\n",
       "│ dense_1 (<span style=\"color: #0087ff; text-decoration-color: #0087ff\">Dense</span>)                      │ (<span style=\"color: #00d7ff; text-decoration-color: #00d7ff\">None</span>, <span style=\"color: #00af00; text-decoration-color: #00af00\">64</span>)                  │           <span style=\"color: #00af00; text-decoration-color: #00af00\">8,256</span> │\n",
       "├──────────────────────────────────────┼─────────────────────────────┼─────────────────┤\n",
       "│ dropout_1 (<span style=\"color: #0087ff; text-decoration-color: #0087ff\">Dropout</span>)                  │ (<span style=\"color: #00d7ff; text-decoration-color: #00d7ff\">None</span>, <span style=\"color: #00af00; text-decoration-color: #00af00\">64</span>)                  │               <span style=\"color: #00af00; text-decoration-color: #00af00\">0</span> │\n",
       "├──────────────────────────────────────┼─────────────────────────────┼─────────────────┤\n",
       "│ dense_2 (<span style=\"color: #0087ff; text-decoration-color: #0087ff\">Dense</span>)                      │ (<span style=\"color: #00d7ff; text-decoration-color: #00d7ff\">None</span>, <span style=\"color: #00af00; text-decoration-color: #00af00\">1</span>)                   │              <span style=\"color: #00af00; text-decoration-color: #00af00\">65</span> │\n",
       "└──────────────────────────────────────┴─────────────────────────────┴─────────────────┘\n",
       "</pre>\n"
      ],
      "text/plain": [
       "┏━━━━━━━━━━━━━━━━━━━━━━━━━━━━━━━━━━━━━━┳━━━━━━━━━━━━━━━━━━━━━━━━━━━━━┳━━━━━━━━━━━━━━━━━┓\n",
       "┃\u001b[1m \u001b[0m\u001b[1mLayer (type)                        \u001b[0m\u001b[1m \u001b[0m┃\u001b[1m \u001b[0m\u001b[1mOutput Shape               \u001b[0m\u001b[1m \u001b[0m┃\u001b[1m \u001b[0m\u001b[1m        Param #\u001b[0m\u001b[1m \u001b[0m┃\n",
       "┡━━━━━━━━━━━━━━━━━━━━━━━━━━━━━━━━━━━━━━╇━━━━━━━━━━━━━━━━━━━━━━━━━━━━━╇━━━━━━━━━━━━━━━━━┩\n",
       "│ dense (\u001b[38;5;33mDense\u001b[0m)                        │ (\u001b[38;5;45mNone\u001b[0m, \u001b[38;5;34m128\u001b[0m)                 │       \u001b[38;5;34m1,039,616\u001b[0m │\n",
       "├──────────────────────────────────────┼─────────────────────────────┼─────────────────┤\n",
       "│ dropout (\u001b[38;5;33mDropout\u001b[0m)                    │ (\u001b[38;5;45mNone\u001b[0m, \u001b[38;5;34m128\u001b[0m)                 │               \u001b[38;5;34m0\u001b[0m │\n",
       "├──────────────────────────────────────┼─────────────────────────────┼─────────────────┤\n",
       "│ dense_1 (\u001b[38;5;33mDense\u001b[0m)                      │ (\u001b[38;5;45mNone\u001b[0m, \u001b[38;5;34m64\u001b[0m)                  │           \u001b[38;5;34m8,256\u001b[0m │\n",
       "├──────────────────────────────────────┼─────────────────────────────┼─────────────────┤\n",
       "│ dropout_1 (\u001b[38;5;33mDropout\u001b[0m)                  │ (\u001b[38;5;45mNone\u001b[0m, \u001b[38;5;34m64\u001b[0m)                  │               \u001b[38;5;34m0\u001b[0m │\n",
       "├──────────────────────────────────────┼─────────────────────────────┼─────────────────┤\n",
       "│ dense_2 (\u001b[38;5;33mDense\u001b[0m)                      │ (\u001b[38;5;45mNone\u001b[0m, \u001b[38;5;34m1\u001b[0m)                   │              \u001b[38;5;34m65\u001b[0m │\n",
       "└──────────────────────────────────────┴─────────────────────────────┴─────────────────┘\n"
      ]
     },
     "metadata": {},
     "output_type": "display_data"
    },
    {
     "data": {
      "text/html": [
       "<pre style=\"white-space:pre;overflow-x:auto;line-height:normal;font-family:Menlo,'DejaVu Sans Mono',consolas,'Courier New',monospace\"><span style=\"font-weight: bold\"> Total params: </span><span style=\"color: #00af00; text-decoration-color: #00af00\">1,047,937</span> (4.00 MB)\n",
       "</pre>\n"
      ],
      "text/plain": [
       "\u001b[1m Total params: \u001b[0m\u001b[38;5;34m1,047,937\u001b[0m (4.00 MB)\n"
      ]
     },
     "metadata": {},
     "output_type": "display_data"
    },
    {
     "data": {
      "text/html": [
       "<pre style=\"white-space:pre;overflow-x:auto;line-height:normal;font-family:Menlo,'DejaVu Sans Mono',consolas,'Courier New',monospace\"><span style=\"font-weight: bold\"> Trainable params: </span><span style=\"color: #00af00; text-decoration-color: #00af00\">1,047,937</span> (4.00 MB)\n",
       "</pre>\n"
      ],
      "text/plain": [
       "\u001b[1m Trainable params: \u001b[0m\u001b[38;5;34m1,047,937\u001b[0m (4.00 MB)\n"
      ]
     },
     "metadata": {},
     "output_type": "display_data"
    },
    {
     "data": {
      "text/html": [
       "<pre style=\"white-space:pre;overflow-x:auto;line-height:normal;font-family:Menlo,'DejaVu Sans Mono',consolas,'Courier New',monospace\"><span style=\"font-weight: bold\"> Non-trainable params: </span><span style=\"color: #00af00; text-decoration-color: #00af00\">0</span> (0.00 B)\n",
       "</pre>\n"
      ],
      "text/plain": [
       "\u001b[1m Non-trainable params: \u001b[0m\u001b[38;5;34m0\u001b[0m (0.00 B)\n"
      ]
     },
     "metadata": {},
     "output_type": "display_data"
    }
   ],
   "source": [
    "from tensorflow.keras.models import Sequential\n",
    "from tensorflow.keras.layers import Dense, Dropout\n",
    "from tensorflow.keras.optimizers import Adam\n",
    "\n",
    "model = Sequential([\n",
    "    Dense(128, activation='relu', input_shape=(X_train.shape[1],)),\n",
    "    Dropout(0.5),\n",
    "    Dense(64, activation='relu'),\n",
    "    Dropout(0.3),\n",
    "    Dense(1, activation='sigmoid')\n",
    "])\n",
    "\n",
    "model.compile(\n",
    "    optimizer=Adam(learning_rate=0.001),\n",
    "    loss='binary_crossentropy',\n",
    "    metrics=['accuracy', 'Precision', 'Recall']\n",
    ")\n",
    "\n",
    "model.summary()"
   ]
  },
  {
   "cell_type": "code",
   "execution_count": 15,
   "id": "17910ee8",
   "metadata": {
    "execution": {
     "iopub.execute_input": "2025-05-01T11:06:29.507180Z",
     "iopub.status.busy": "2025-05-01T11:06:29.506465Z",
     "iopub.status.idle": "2025-05-01T11:06:39.673839Z",
     "shell.execute_reply": "2025-05-01T11:06:39.672750Z"
    },
    "papermill": {
     "duration": 10.17778,
     "end_time": "2025-05-01T11:06:39.675553",
     "exception": false,
     "start_time": "2025-05-01T11:06:29.497773",
     "status": "completed"
    },
    "tags": []
   },
   "outputs": [
    {
     "name": "stdout",
     "output_type": "stream",
     "text": [
      "Epoch 1/20\n",
      "\u001b[1m35/35\u001b[0m \u001b[32m━━━━━━━━━━━━━━━━━━━━\u001b[0m\u001b[37m\u001b[0m \u001b[1m5s\u001b[0m 46ms/step - Precision: 0.1442 - Recall: 0.1046 - accuracy: 0.8111 - loss: 0.6203 - val_Precision: 0.0000e+00 - val_Recall: 0.0000e+00 - val_accuracy: 0.8655 - val_loss: 0.3193\n",
      "Epoch 2/20\n",
      "\u001b[1m35/35\u001b[0m \u001b[32m━━━━━━━━━━━━━━━━━━━━\u001b[0m\u001b[37m\u001b[0m \u001b[1m1s\u001b[0m 18ms/step - Precision: 0.0000e+00 - Recall: 0.0000e+00 - accuracy: 0.8682 - loss: 0.2660 - val_Precision: 1.0000 - val_Recall: 0.1067 - val_accuracy: 0.8798 - val_loss: 0.1832\n",
      "Epoch 3/20\n",
      "\u001b[1m35/35\u001b[0m \u001b[32m━━━━━━━━━━━━━━━━━━━━\u001b[0m\u001b[37m\u001b[0m \u001b[1m1s\u001b[0m 18ms/step - Precision: 0.9988 - Recall: 0.3871 - accuracy: 0.9116 - loss: 0.1573 - val_Precision: 0.9758 - val_Recall: 0.8067 - val_accuracy: 0.9713 - val_loss: 0.1181\n",
      "Epoch 4/20\n",
      "\u001b[1m35/35\u001b[0m \u001b[32m━━━━━━━━━━━━━━━━━━━━\u001b[0m\u001b[37m\u001b[0m \u001b[1m1s\u001b[0m 18ms/step - Precision: 0.9969 - Recall: 0.9141 - accuracy: 0.9884 - loss: 0.0706 - val_Precision: 0.9559 - val_Recall: 0.8667 - val_accuracy: 0.9767 - val_loss: 0.0727\n",
      "Epoch 5/20\n",
      "\u001b[1m35/35\u001b[0m \u001b[32m━━━━━━━━━━━━━━━━━━━━\u001b[0m\u001b[37m\u001b[0m \u001b[1m1s\u001b[0m 18ms/step - Precision: 0.9990 - Recall: 0.9863 - accuracy: 0.9980 - loss: 0.0233 - val_Precision: 0.9632 - val_Recall: 0.8733 - val_accuracy: 0.9785 - val_loss: 0.0713\n",
      "Epoch 6/20\n",
      "\u001b[1m35/35\u001b[0m \u001b[32m━━━━━━━━━━━━━━━━━━━━\u001b[0m\u001b[37m\u001b[0m \u001b[1m1s\u001b[0m 17ms/step - Precision: 0.9973 - Recall: 0.9809 - accuracy: 0.9971 - loss: 0.0118 - val_Precision: 0.9706 - val_Recall: 0.8800 - val_accuracy: 0.9803 - val_loss: 0.0740\n",
      "Epoch 7/20\n",
      "\u001b[1m35/35\u001b[0m \u001b[32m━━━━━━━━━━━━━━━━━━━━\u001b[0m\u001b[37m\u001b[0m \u001b[1m1s\u001b[0m 18ms/step - Precision: 0.9994 - Recall: 0.9988 - accuracy: 0.9997 - loss: 0.0056 - val_Precision: 0.9710 - val_Recall: 0.8933 - val_accuracy: 0.9821 - val_loss: 0.0743\n",
      "Epoch 8/20\n",
      "\u001b[1m35/35\u001b[0m \u001b[32m━━━━━━━━━━━━━━━━━━━━\u001b[0m\u001b[37m\u001b[0m \u001b[1m1s\u001b[0m 18ms/step - Precision: 0.9981 - Recall: 0.9978 - accuracy: 0.9995 - loss: 0.0045 - val_Precision: 0.9708 - val_Recall: 0.8867 - val_accuracy: 0.9812 - val_loss: 0.0779\n",
      "\u001b[1m35/35\u001b[0m \u001b[32m━━━━━━━━━━━━━━━━━━━━\u001b[0m\u001b[37m\u001b[0m \u001b[1m0s\u001b[0m 5ms/step\n"
     ]
    }
   ],
   "source": [
    "from tensorflow.keras.callbacks import EarlyStopping\n",
    "early_stop = EarlyStopping(patience=3, restore_best_weights=True)\n",
    "\n",
    "history = model.fit(\n",
    "    X_train, y_train,\n",
    "    validation_data=(X_test, y_test),\n",
    "    epochs=20,\n",
    "    batch_size=128,\n",
    "    callbacks=[early_stop],\n",
    "    verbose=1\n",
    ")\n",
    "\n",
    "y_pred_nn = model.predict(X_test)\n",
    "y_pred_nn = (y_pred_nn > 0.5).astype(int).flatten()"
   ]
  },
  {
   "cell_type": "markdown",
   "id": "e48cf583",
   "metadata": {
    "papermill": {
     "duration": 0.012002,
     "end_time": "2025-05-01T11:06:39.699932",
     "exception": false,
     "start_time": "2025-05-01T11:06:39.687930",
     "status": "completed"
    },
    "tags": []
   },
   "source": [
    "# **Model Comparison**"
   ]
  },
  {
   "cell_type": "code",
   "execution_count": 16,
   "id": "c5305dc8",
   "metadata": {
    "execution": {
     "iopub.execute_input": "2025-05-01T11:06:39.727129Z",
     "iopub.status.busy": "2025-05-01T11:06:39.725856Z",
     "iopub.status.idle": "2025-05-01T11:06:39.800836Z",
     "shell.execute_reply": "2025-05-01T11:06:39.799156Z"
    },
    "papermill": {
     "duration": 0.091571,
     "end_time": "2025-05-01T11:06:39.802828",
     "exception": false,
     "start_time": "2025-05-01T11:06:39.711257",
     "status": "completed"
    },
    "tags": []
   },
   "outputs": [
    {
     "name": "stdout",
     "output_type": "stream",
     "text": [
      "            Model  Accuracy  Precision    Recall        F1\n",
      "2             SVM  0.980269   0.977612  0.873333  0.922535\n",
      "5  Neural Network  0.978475   0.963235  0.873333  0.916084\n",
      "1   Random Forest  0.971300   1.000000  0.786667  0.880597\n",
      "0     Naive Bayes  0.967713   1.000000  0.760000  0.863636\n",
      "4         XGBoost  0.957848   0.932773  0.740000  0.825279\n",
      "3             KNN  0.912108   1.000000  0.346667  0.514851\n"
     ]
    }
   ],
   "source": [
    "from sklearn.metrics import accuracy_score, precision_score, recall_score, f1_score\n",
    "\n",
    "models = {\n",
    "    'Naive Bayes' : y_pred_nb,\n",
    "    'Random Forest' : y_pred_rf,\n",
    "    'SVM' : y_pred_svm,\n",
    "    'KNN' : y_pred_knn,\n",
    "    'XGBoost' : y_pred_xgb,\n",
    "    'Neural Network' : y_pred_nn\n",
    "}\n",
    "\n",
    "results = []\n",
    "for name, preds in models.items():\n",
    "    acc = accuracy_score(y_test, preds)\n",
    "    precision = precision_score(y_test, preds)\n",
    "    recall = recall_score(y_test, preds)\n",
    "    f1 = f1_score(y_test, preds)\n",
    "    results.append([name, acc, precision, recall, f1])\n",
    "\n",
    "results_df = pd.DataFrame(results, columns=['Model', 'Accuracy', 'Precision', 'Recall', 'F1'])\n",
    "print(results_df.sort_values('F1', ascending=False))"
   ]
  },
  {
   "cell_type": "code",
   "execution_count": 17,
   "id": "0e4dc9d7",
   "metadata": {
    "execution": {
     "iopub.execute_input": "2025-05-01T11:06:39.838059Z",
     "iopub.status.busy": "2025-05-01T11:06:39.837729Z",
     "iopub.status.idle": "2025-05-01T11:06:39.976368Z",
     "shell.execute_reply": "2025-05-01T11:06:39.975496Z"
    },
    "papermill": {
     "duration": 0.159207,
     "end_time": "2025-05-01T11:06:39.977867",
     "exception": false,
     "start_time": "2025-05-01T11:06:39.818660",
     "status": "completed"
    },
    "tags": []
   },
   "outputs": [
    {
     "data": {
      "text/plain": [
       "['input_vectorizer.joblib']"
      ]
     },
     "execution_count": 17,
     "metadata": {},
     "output_type": "execute_result"
    }
   ],
   "source": [
    "from joblib import dump\n",
    "\n",
    "dump(model, 'spam_classifier_nn.joblib')\n",
    "dump(vectorizer, 'input_vectorizer.joblib')"
   ]
  },
  {
   "cell_type": "code",
   "execution_count": 18,
   "id": "06e8819c",
   "metadata": {
    "execution": {
     "iopub.execute_input": "2025-05-01T11:06:40.002961Z",
     "iopub.status.busy": "2025-05-01T11:06:40.002229Z",
     "iopub.status.idle": "2025-05-01T11:06:40.007362Z",
     "shell.execute_reply": "2025-05-01T11:06:40.006261Z"
    },
    "papermill": {
     "duration": 0.019743,
     "end_time": "2025-05-01T11:06:40.009058",
     "exception": false,
     "start_time": "2025-05-01T11:06:39.989315",
     "status": "completed"
    },
    "tags": []
   },
   "outputs": [
    {
     "name": "stdout",
     "output_type": "stream",
     "text": [
      "2.18.0\n"
     ]
    }
   ],
   "source": [
    "import tensorflow as tf\n",
    "print(tf.__version__)"
   ]
  },
  {
   "cell_type": "code",
   "execution_count": null,
   "id": "01031bf5",
   "metadata": {
    "papermill": {
     "duration": 0.01147,
     "end_time": "2025-05-01T11:06:40.032528",
     "exception": false,
     "start_time": "2025-05-01T11:06:40.021058",
     "status": "completed"
    },
    "tags": []
   },
   "outputs": [],
   "source": []
  }
 ],
 "metadata": {
  "kaggle": {
   "accelerator": "none",
   "dataSources": [
    {
     "datasetId": 483,
     "sourceId": 982,
     "sourceType": "datasetVersion"
    }
   ],
   "dockerImageVersionId": 31012,
   "isGpuEnabled": false,
   "isInternetEnabled": false,
   "language": "python",
   "sourceType": "notebook"
  },
  "kernelspec": {
   "display_name": "Python 3",
   "language": "python",
   "name": "python3"
  },
  "language_info": {
   "codemirror_mode": {
    "name": "ipython",
    "version": 3
   },
   "file_extension": ".py",
   "mimetype": "text/x-python",
   "name": "python",
   "nbconvert_exporter": "python",
   "pygments_lexer": "ipython3",
   "version": "3.11.11"
  },
  "papermill": {
   "default_parameters": {},
   "duration": 50.254199,
   "end_time": "2025-05-01T11:06:43.073250",
   "environment_variables": {},
   "exception": null,
   "input_path": "__notebook__.ipynb",
   "output_path": "__notebook__.ipynb",
   "parameters": {},
   "start_time": "2025-05-01T11:05:52.819051",
   "version": "2.6.0"
  }
 },
 "nbformat": 4,
 "nbformat_minor": 5
}
